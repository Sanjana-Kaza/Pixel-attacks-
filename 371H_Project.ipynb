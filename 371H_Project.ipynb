{
  "nbformat": 4,
  "nbformat_minor": 0,
  "metadata": {
    "kernelspec": {
      "display_name": "Python 3",
      "language": "python",
      "name": "python3"
    },
    "language_info": {
      "codemirror_mode": {
        "name": "ipython",
        "version": 3
      },
      "file_extension": ".py",
      "mimetype": "text/x-python",
      "name": "python",
      "nbconvert_exporter": "python",
      "pygments_lexer": "ipython3",
      "version": "3.6.8"
    },
    "colab": {
      "name": "371H Project.ipynb",
      "provenance": [],
      "include_colab_link": true
    }
  },
  "cells": [
    {
      "cell_type": "markdown",
      "metadata": {
        "id": "view-in-github",
        "colab_type": "text"
      },
      "source": [
        "<a href=\"https://colab.research.google.com/github/sanjana241/Pixel-attacks-/blob/main/371H_Project.ipynb\" target=\"_parent\"><img src=\"https://colab.research.google.com/assets/colab-badge.svg\" alt=\"Open In Colab\"/></a>"
      ]
    },
    {
      "cell_type": "code",
      "metadata": {
        "id": "frCKYwwMQqWG",
        "colab": {
          "base_uri": "https://localhost:8080/",
          "height": 164
        },
        "outputId": "189da1d1-11bf-4ae7-8d7b-af5173dd4050"
      },
      "source": [
        "(x_train, y_train), (x_test, y_test) = cifar10.load_data()"
      ],
      "execution_count": 1,
      "outputs": [
        {
          "output_type": "error",
          "ename": "NameError",
          "evalue": "ignored",
          "traceback": [
            "\u001b[0;31m---------------------------------------------------------------------------\u001b[0m",
            "\u001b[0;31mNameError\u001b[0m                                 Traceback (most recent call last)",
            "\u001b[0;32m<ipython-input-1-31c4ea67f2fa>\u001b[0m in \u001b[0;36m<module>\u001b[0;34m()\u001b[0m\n\u001b[0;32m----> 1\u001b[0;31m \u001b[0;34m(\u001b[0m\u001b[0mx_train\u001b[0m\u001b[0;34m,\u001b[0m \u001b[0my_train\u001b[0m\u001b[0;34m)\u001b[0m\u001b[0;34m,\u001b[0m \u001b[0;34m(\u001b[0m\u001b[0mx_test\u001b[0m\u001b[0;34m,\u001b[0m \u001b[0my_test\u001b[0m\u001b[0;34m)\u001b[0m \u001b[0;34m=\u001b[0m \u001b[0mcifar10\u001b[0m\u001b[0;34m.\u001b[0m\u001b[0mload_data\u001b[0m\u001b[0;34m(\u001b[0m\u001b[0;34m)\u001b[0m\u001b[0;34m\u001b[0m\u001b[0;34m\u001b[0m\u001b[0m\n\u001b[0m",
            "\u001b[0;31mNameError\u001b[0m: name 'cifar10' is not defined"
          ]
        }
      ]
    },
    {
      "cell_type": "code",
      "metadata": {
        "id": "t6qEf2a1QqWF",
        "colab": {
          "base_uri": "https://localhost:8080/"
        },
        "outputId": "1b64c0ab-6d60-45e4-b72f-d05d7d5ae067"
      },
      "source": [
        "\n",
        "\n",
        "# Python Libraries\n",
        "\n",
        "import pickle\n",
        "import numpy as np\n",
        "import pandas as pd\n",
        "import matplotlib\n",
        "from keras.datasets import cifar10\n",
        "from keras import backend as K\n",
        "\n",
        "# Custom Networks\n",
        "from networks.lenet import LeNet\n",
        "\n",
        "from networks.resnet import ResNet\n",
        "\n",
        "\n",
        "# Helper functions\n",
        "\n",
        "import helper\n",
        "import random \n",
        "\n",
        "\n",
        "matplotlib.style.use('ggplot')\n",
        "np.random.seed(100)"
      ],
      "execution_count": null,
      "outputs": [
        {
          "output_type": "stream",
          "text": [
            "Cloning into 'one-pixel-attack-keras'...\n",
            "remote: Enumerating objects: 346, done.\u001b[K\n",
            "remote: Total 346 (delta 0), reused 0 (delta 0), pack-reused 346\u001b[K\n",
            "Receiving objects: 100% (346/346), 44.43 MiB | 30.51 MiB/s, done.\n",
            "Resolving deltas: 100% (201/201), done.\n",
            "renamed 'one-pixel-attack-keras/1_one-pixel-attack-cifar10.ipynb' -> './1_one-pixel-attack-cifar10.ipynb'\n",
            "renamed 'one-pixel-attack-keras/2_one-pixel-attack-imagenet.ipynb' -> './2_one-pixel-attack-imagenet.ipynb'\n",
            "renamed 'one-pixel-attack-keras/attack.py' -> './attack.py'\n",
            "renamed 'one-pixel-attack-keras/CONTRIBUTING.md' -> './CONTRIBUTING.md'\n",
            "renamed 'one-pixel-attack-keras/data' -> './data'\n",
            "renamed 'one-pixel-attack-keras/differential_evolution.py' -> './differential_evolution.py'\n",
            "renamed 'one-pixel-attack-keras/helper.py' -> './helper.py'\n",
            "renamed 'one-pixel-attack-keras/images' -> './images'\n",
            "renamed 'one-pixel-attack-keras/LICENSE' -> './LICENSE'\n",
            "renamed 'one-pixel-attack-keras/networks' -> './networks'\n",
            "renamed 'one-pixel-attack-keras/README.md' -> './README.md'\n",
            "renamed 'one-pixel-attack-keras/requirements.txt' -> './requirements.txt'\n",
            "renamed 'one-pixel-attack-keras/train.py' -> './train.py'\n"
          ],
          "name": "stdout"
        }
      ]
    },
    {
      "cell_type": "code",
      "metadata": {
        "id": "BzryEnCvQqWG"
      },
      "source": [
        "class_names = ['airplane', 'automobile', 'bird', 'cat', 'deer', 'dog', 'frog', 'horse', 'ship', 'truck']"
      ],
      "execution_count": null,
      "outputs": []
    },
    {
      "cell_type": "code",
      "metadata": {
        "id": "B9NTquwpQqWG",
        "colab": {
          "base_uri": "https://localhost:8080/"
        },
        "outputId": "c6465189-ee5d-4b81-c503-ed776e178700"
      },
      "source": [
        "lenet = LeNet()\n",
        "resnet = ResNet()\n",
        "\n",
        "models = [lenet, resnet]\n",
        "\n"
      ],
      "execution_count": null,
      "outputs": [
        {
          "output_type": "stream",
          "text": [
            "Successfully loaded lenet\n",
            "Successfully loaded resnet\n"
          ],
          "name": "stdout"
        }
      ]
    },
    {
      "cell_type": "code",
      "metadata": {
        "id": "Jgd2AACvQqWH"
      },
      "source": [
        "def predict_classes1(img, target_class, model, minimize=True):\n",
        "    predictions = model.predict(img)[:,target_class]\n",
        "    return predictions if minimize else 1 - predictions"
      ],
      "execution_count": null,
      "outputs": []
    },
    {
      "cell_type": "code",
      "metadata": {
        "id": "A61DqFB5QqWH",
        "colab": {
          "base_uri": "https://localhost:8080/",
          "height": 538
        },
        "outputId": "b031baf7-1dad-4a91-87dc-d89723aabbc6"
      },
      "source": [
        "def attack1(img):    \n",
        "    model = resnet\n",
        "    image_id = img # Image index in the test set\n",
        "    true_class = y_test[image_id, 0]\n",
        "\n",
        "    prior_confidence = model.predict_one(x_test[image_id])[true_class]\n",
        "    prior1 = prior_confidence; prior2 = prior1; prior = prior2\n",
        "    im = np.copy(x_test[image_id]) \n",
        "\n",
        "\n",
        "    array1 = np.full((32,32,3), None)\n",
        "    array2 = np.full((32,32,3), None)\n",
        "    array3 = np.full((32,32,3), None)\n",
        "    for i in range(32): \n",
        "        for j in range(32): \n",
        "            for k in range(3):\n",
        "                if im[i][j][k] <= 85:\n",
        "                    array1[i][j][k] = im[i][j][k]\n",
        "                if im[i][j][k] > 85 and im[i][j][k] <= 170:\n",
        "                    array2[i][j][k] = im[i][j][k]\n",
        "                if im[i][j][k] > 170 and im[i][j][k] <= 255:\n",
        "                    array3[i][j][k] = im[i][j][k]\n",
        "\n",
        "    count = 0\n",
        "    count1 = 0\n",
        "    count2 = 0\n",
        "    for i in range(32):\n",
        "        for j in range(32):\n",
        "          if None not in array3[i][j]:\n",
        "              for k in range(3):\n",
        "                 if im[i][j][k] < 230:\n",
        "                    count2 = count2 + 1\n",
        "                    if(count2 > 3):\n",
        "                       im[i][j][k] = im[i][j][k] + 10\n",
        "                       confidence = model.predict_one(im)[true_class]\n",
        "                       if(confidence >= prior):\n",
        "                           im[i][j][k] = im[i][j][k] - 10\n",
        "                       else:\n",
        "                         prior = confidence\n",
        "\n",
        "     \n",
        "          if None not in array2[i][j]:\n",
        "              for k in range(3):\n",
        "                    count1 = count1 + 1\n",
        "                    if(count1 > 3):\n",
        "                      im[i][j][k] = im[i][j][k] + 10\n",
        "                      #if random.randint(0,50) == 43:\n",
        "                            #im[i][j] = [255, 255, 255]\n",
        "                      confidence = model.predict_one(im)[true_class]\n",
        "                      if(confidence >= prior2):\n",
        "                            im[i][j][k] = im[i][j][k] - 10\n",
        "                      else:\n",
        "                         prior2 = confidence\n",
        "\n",
        "\n",
        "\n",
        "          if None not in array1[i][j]:\n",
        "              for k in range(3):\n",
        "                    count = count + 1\n",
        "                    if(count > 3):\n",
        "                      im[i][j][k] = im[i][j][k] + 20\n",
        "                      #if random.randint(0,50) == 43:\n",
        "                            #im[i][j] = [255, 255, 255]\n",
        "                      confidence = model.predict_one(im)[true_class]\n",
        "                      if(confidence >= prior1):\n",
        "                            im[i][j][k] = im[i][j][k] - 20\n",
        "                      else:\n",
        "                          prior1 = confidence\n",
        "\n",
        "\n",
        "                    \n",
        "    \n",
        "    confidence = model.predict_one(im)[true_class]\n",
        "    helper.plot_image(im)\n",
        "    helper.plot_image(x_test[image_id])\n",
        "    print('Confidence in true class', class_names[true_class], 'is', confidence)\n",
        "    print('Prior confidence was', prior_confidence)  \n",
        "    delta = (prior_confidence - confidence)*100 \n",
        "    print('The percentage difference is', delta)\n",
        "attack1(1346)"
      ],
      "execution_count": null,
      "outputs": [
        {
          "output_type": "display_data",
          "data": {
            "image/png": "[encoded data removed]",
            "text/plain": [
              "<Figure size 432x288 with 1 Axes>"
            ]
          },
          "metadata": {
            "tags": []
          }
        },
        {
          "output_type": "display_data",
          "data": {
            "image/png": "[encoded data removed]",
            "text/plain": [
              "<Figure size 432x288 with 1 Axes>"
            ]
          },
          "metadata": {
            "tags": []
          }
        },
        {
          "output_type": "stream",
          "text": [
            "Confidence in true class cat is 3.9208246e-09\n",
            "Prior confidence was 0.9953849\n",
            "The percentage difference is 99.53848719596863\n"
          ],
          "name": "stdout"
        }
      ]
    },
    {
      "cell_type": "code",
      "metadata": {
        "id": "PqJckyVpQqWI",
        "colab": {
          "base_uri": "https://localhost:8080/",
          "height": 538
        },
        "outputId": "c1ae77fa-f1b9-4a5d-88d8-38074c73e09f"
      },
      "source": [
        "def attack2(img):    \n",
        "    model = resnet\n",
        "    image_id = img # Image index in the test set\n",
        "    true_class = y_test[image_id, 0]\n",
        "    prior_confidence = model.predict_one(x_test[image_id])[true_class]\n",
        "    prior1 = prior_confidence; prior2 = prior1; prior = prior2\n",
        "    im1 = np.copy(x_test[image_id]) \n",
        "    im2 = np.copy(x_test[image_id]) \n",
        "    avg_arr = np.full((32,32,3), None)\n",
        "\n",
        "\n",
        "    for i in range(32): \n",
        "        for j in range(32):\n",
        "            avg = int(sum(im1[i][j])/3)\n",
        "            avg_arr[i][j] = avg \n",
        "    for i in range(31): \n",
        "        for j in range(31): \n",
        "           if ((abs(avg_arr[i][j] - avg_arr[i][j-1]) >= 30).all() and (abs(avg_arr[i][j] - avg_arr[i][j+1]) >= 30).all()):\n",
        "             im1[i][j] = [105,105,105]\n",
        "    helper.plot_image(im1)\n",
        "    helper.plot_image(im2)\n",
        "\n",
        "\n",
        "    confidence = model.predict_one(im1)[true_class]\n",
        "    print('Confidence in true class', class_names[true_class], 'is', confidence)\n",
        "    print('Prior confidence was', prior_confidence) \n",
        "    delta = (prior_confidence - confidence)*100 \n",
        "    print('The percentage difference is', delta)\n",
        "\n",
        "attack2(790)"
      ],
      "execution_count": null,
      "outputs": [
        {
          "output_type": "display_data",
          "data": {
            "image/png": "[encoded data removed]",
            "text/plain": [
              "<Figure size 432x288 with 1 Axes>"
            ]
          },
          "metadata": {
            "tags": []
          }
        },
        {
          "output_type": "display_data",
          "data": {
            "image/png": "[encoded data removed]",
            "text/plain": [
              "<Figure size 432x288 with 1 Axes>"
            ]
          },
          "metadata": {
            "tags": []
          }
        },
        {
          "output_type": "stream",
          "text": [
            "Confidence in true class cat is 0.012255394\n",
            "Prior confidence was 0.9215644\n",
            "The percentage difference is 90.93090295791626\n"
          ],
          "name": "stdout"
        }
      ]
    },
    {
      "cell_type": "code",
      "metadata": {
        "id": "8yslIIreQqWI",
        "colab": {
          "base_uri": "https://localhost:8080/",
          "height": 320
        },
        "outputId": "2f01a0be-95a7-4ef9-b2ff-5c43f324c3bb"
      },
      "source": [
        "def attack3(img_id, partition, random):\n",
        "    image_id = img_id\n",
        "    img = np.copy(x_test[image_id])\n",
        "    true_class = y_test[image_id, 0]\n",
        "    model = resnet\n",
        "    prior_confidence = model.predict_one(x_test[image_id])[true_class]\n",
        "\n",
        "    \n",
        "    #partiton => every _____ rows/columns\n",
        "    for i in range(32): \n",
        "      if (random == False):\n",
        "         if i%partition==0: # for set number of partitions\n",
        "            for j in range(32): \n",
        "                img[i][j] =  img[i][j] * 0.90\n",
        "                img[j][i] =  img[j][i] * 0.90\n",
        "      if(random == True):\n",
        "            i = random.randint(0,31) # for random\n",
        "            for j in range(32): \n",
        "                img[i][j] =  img[i][j] * 0.90\n",
        "                img[j][i] =  img[j][i] * 0.90\n",
        "\n",
        "    confidence = predict_classes1(img, true_class, model)[0]\n",
        "\n",
        "    print('Confidence in true class', class_names[true_class], 'is', confidence)\n",
        "    print('Prior confidence was', prior_confidence)\n",
        "    delta = (prior_confidence - confidence)*100\n",
        "    print('The percentage difference is', delta)\n",
        "    if confidence < prior_confidence: \n",
        "        print(\"okay\")\n",
        "    else: \n",
        "        print(\"fail\")\n",
        "    helper.plot_image(img)\n",
        "attack3(430, 7, False)"
      ],
      "execution_count": null,
      "outputs": [
        {
          "output_type": "stream",
          "text": [
            "Confidence in true class bird is 0.4153281\n",
            "Prior confidence was 0.99978906\n",
            "The percentage difference is 58.4460973739624\n",
            "okay\n"
          ],
          "name": "stdout"
        },
        {
          "output_type": "display_data",
          "data": {
            "image/png": "[encoded data removed]",
            "text/plain": [
              "<Figure size 432x288 with 1 Axes>"
            ]
          },
          "metadata": {
            "tags": []
          }
        }
      ]
    },
    {
      "cell_type": "code",
      "metadata": {
        "id": "fOcbcEmRQqWI",
        "colab": {
          "base_uri": "https://localhost:8080/",
          "height": 320
        },
        "outputId": "ea1bfe1c-ae19-48ae-fe2e-114b3b81d048"
      },
      "source": [
        "def attack4(img_id, pixels):\n",
        "    a = pixels # however many pixels you wanna block\n",
        "    image_id = img_id\n",
        "    img = np.copy(x_test[image_id])\n",
        "    for i in range(32): \n",
        "        for j in range(a): \n",
        "            img[i][j] =  255\n",
        "            img[j][i] =  255\n",
        "            img[i][(32-a)+j] = 255\n",
        "            img[j+(32-a)][i] =  255\n",
        "    model = resnet\n",
        "\n",
        "    true_class = y_test[image_id, 0]\n",
        "    prior_confidence = model.predict_one(x_test[image_id])[true_class]\n",
        "    confidence = predict_classes1(img, true_class, model)[0]\n",
        "\n",
        "    print('Confidence in true class', class_names[true_class], 'is', confidence)\n",
        "    print('Prior confidence was', prior_confidence)\n",
        "    delta = (prior_confidence - confidence)*100\n",
        "    print('The percentage difference is', delta)\n",
        "    if confidence < prior_confidence: \n",
        "        print(\"okay\")\n",
        "    else: \n",
        "        print(\"fail\")\n",
        "    helper.plot_image(img)\n",
        "    \n",
        "attack4(430,2)"
      ],
      "execution_count": null,
      "outputs": [
        {
          "output_type": "stream",
          "text": [
            "Confidence in true class bird is 0.17942064\n",
            "Prior confidence was 0.99978906\n",
            "The percentage difference is 82.03684091567993\n",
            "okay\n"
          ],
          "name": "stdout"
        },
        {
          "output_type": "display_data",
          "data": {
            "image/png": "[encoded data removed]",
            "text/plain": [
              "<Figure size 432x288 with 1 Axes>"
            ]
          },
          "metadata": {
            "tags": []
          }
        }
      ]
    },
    {
      "cell_type": "code",
      "metadata": {
        "id": "lsatW4UzQqWI",
        "colab": {
          "base_uri": "https://localhost:8080/",
          "height": 773
        },
        "outputId": "ade90987-7dc5-436e-ccbd-97f4e3d7094e"
      },
      "source": [
        "def defense(img):    \n",
        "    import random \n",
        "    model = resnet\n",
        "    sor =[]\n",
        "    image_id = img # Image index in the test set\n",
        "    true_class = y_test[image_id, 0]\n",
        "    prob = 0.03\n",
        "    thres = 1- prob\n",
        "    prior_confidence = model.predict_one(x_test[image_id])[true_class]\n",
        "    prior1 = prior_confidence; prior2 = prior1; prior = prior2\n",
        "    im3 = np.copy(x_test[image_id]) \n",
        "    im4 = np.copy(x_test[image_id]) \n",
        "    ### Adding Noise ###\n",
        "    for i in range(32): \n",
        "        for j in range(32):                 \n",
        "                if random.random() < prob:\n",
        "                    im4[i][j]= [0,0,0]\n",
        "                elif random.random() > thres:\n",
        "                    im4[i][j]= [255,255,255]\n",
        "    im6 = np.copy(im4) \n",
        "    \n",
        "    ### Removing Noise ###\n",
        "    \n",
        "    for i in range(31): \n",
        "        for j in range(31): \n",
        "            for k in range(3):\n",
        "                sor.append(im6[i][j][k])\n",
        "                sor.append(im6[i][j+1][k])\n",
        "                sor.append(im6[i][j-1][k])\n",
        "                sor.sort()\n",
        "                im6[i][j][k] = sor[1]\n",
        "                sor=[]\n",
        "    confidence1 = model.predict_one(im3)[true_class]\n",
        "    confidence2 = model.predict_one(im4)[true_class]\n",
        "    confidence3 = model.predict_one(im6)[true_class]\n",
        "    helper.plot_image(im3)\n",
        "    print(confidence1)\n",
        "    helper.plot_image(im4)\n",
        "    print(confidence2)\n",
        "    helper.plot_image(im6)\n",
        "    print(confidence3)\n",
        "\n",
        "\n",
        "\n",
        "defense(4400)"
      ],
      "execution_count": null,
      "outputs": [
        {
          "output_type": "display_data",
          "data": {
            "image/png": "[encoded data removed]",
            "text/plain": [
              "<Figure size 432x288 with 1 Axes>"
            ]
          },
          "metadata": {
            "tags": []
          }
        },
        {
          "output_type": "stream",
          "text": [
            "0.9999995\n"
          ],
          "name": "stdout"
        },
        {
          "output_type": "display_data",
          "data": {
            "image/png": "[encoded data removed]",
            "text/plain": [
              "<Figure size 432x288 with 1 Axes>"
            ]
          },
          "metadata": {
            "tags": []
          }
        },
        {
          "output_type": "stream",
          "text": [
            "0.912408\n"
          ],
          "name": "stdout"
        },
        {
          "output_type": "display_data",
          "data": {
            "image/png": "[encoded data removed]",
            "text/plain": [
              "<Figure size 432x288 with 1 Axes>"
            ]
          },
          "metadata": {
            "tags": []
          }
        },
        {
          "output_type": "stream",
          "text": [
            "0.99999964\n"
          ],
          "name": "stdout"
        }
      ]
    },
    {
      "cell_type": "code",
      "metadata": {
        "id": "t9GAr6UWQqWJ"
      },
      "source": [
        ""
      ],
      "execution_count": null,
      "outputs": []
    }
  ]
}