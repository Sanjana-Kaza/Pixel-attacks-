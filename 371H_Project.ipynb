{
  "nbformat": 4,
  "nbformat_minor": 0,
  "metadata": {
    "kernelspec": {
      "display_name": "Python 3",
      "language": "python",
      "name": "python3"
    },
    "language_info": {
      "codemirror_mode": {
        "name": "ipython",
        "version": 3
      },
      "file_extension": ".py",
      "mimetype": "text/x-python",
      "name": "python",
      "nbconvert_exporter": "python",
      "pygments_lexer": "ipython3",
      "version": "3.6.8"
    },
    "colab": {
      "name": "371H Project.ipynb",
      "provenance": [],
      "include_colab_link": true
    }
  },
  "cells": [
    {
      "cell_type": "markdown",
      "metadata": {
        "id": "view-in-github",
        "colab_type": "text"
      },
      "source": [
        "<a href=\"https://colab.research.google.com/github/sanjana241/Pixel-attacks-/blob/main/371H_Project.ipynb\" target=\"_parent\"><img src=\"https://colab.research.google.com/assets/colab-badge.svg\" alt=\"Open In Colab\"/></a>"
      ]
    },
    {
      "cell_type": "code",
      "metadata": {
        "id": "frCKYwwMQqWG"
      },
      "source": [
        "(x_train, y_train), (x_test, y_test) = cifar10.load_data()"
      ],
      "execution_count": null,
      "outputs": []
    },
    {
      "cell_type": "code",
      "metadata": {
        "id": "t6qEf2a1QqWF"
      },
      "source": [
        "\n",
        "\n",
        "# Python Libraries\n",
        "\n",
        "import pickle\n",
        "import numpy as np\n",
        "import pandas as pd\n",
        "import matplotlib\n",
        "from keras.datasets import cifar10\n",
        "from keras import backend as K\n",
        "\n",
        "# Custom Networks\n",
        "from networks.lenet import LeNet\n",
        "\n",
        "from networks.resnet import ResNet\n",
        "\n",
        "\n",
        "# Helper functions\n",
        "\n",
        "import helper\n",
        "import random \n",
        "\n",
        "\n",
        "matplotlib.style.use('ggplot')\n",
        "np.random.seed(100)"
      ],
      "execution_count": null,
      "outputs": []
    },
    {
      "cell_type": "code",
      "metadata": {
        "id": "BzryEnCvQqWG"
      },
      "source": [
        "class_names = ['airplane', 'automobile', 'bird', 'cat', 'deer', 'dog', 'frog', 'horse', 'ship', 'truck']"
      ],
      "execution_count": null,
      "outputs": []
    },
    {
      "cell_type": "code",
      "metadata": {
        "id": "B9NTquwpQqWG"
      },
      "source": [
        "lenet = LeNet()\n",
        "resnet = ResNet()\n",
        "\n",
        "models = [lenet, resnet]\n",
        "\n"
      ],
      "execution_count": null,
      "outputs": []
    },
    {
      "cell_type": "code",
      "metadata": {
        "id": "Jgd2AACvQqWH"
      },
      "source": [
        "def predict_classes1(img, target_class, model, minimize=True):\n",
        "    predictions = model.predict(img)[:,target_class]\n",
        "    return predictions if minimize else 1 - predictions"
      ],
      "execution_count": null,
      "outputs": []
    },
    {
      "cell_type": "code",
      "metadata": {
        "id": "A61DqFB5QqWH"
      },
      "source": [
        "def attack1(img):    \n",
        "    model = resnet\n",
        "    image_id = img # Image index in the test set\n",
        "    true_class = y_test[image_id, 0]\n",
        "\n",
        "    prior_confidence = model.predict_one(x_test[image_id])[true_class]\n",
        "    prior1 = prior_confidence; prior2 = prior1; prior = prior2\n",
        "    im = np.copy(x_test[image_id]) \n",
        "\n",
        "\n",
        "    array1 = np.full((32,32,3), None)\n",
        "    array2 = np.full((32,32,3), None)\n",
        "    array3 = np.full((32,32,3), None)\n",
        "    for i in range(32): \n",
        "        for j in range(32): \n",
        "            for k in range(3):\n",
        "                if im[i][j][k] <= 85:\n",
        "                    array1[i][j][k] = im[i][j][k]\n",
        "                if im[i][j][k] > 85 and im[i][j][k] <= 170:\n",
        "                    array2[i][j][k] = im[i][j][k]\n",
        "                if im[i][j][k] > 170 and im[i][j][k] <= 255:\n",
        "                    array3[i][j][k] = im[i][j][k]\n",
        "\n",
        "    count = 0\n",
        "    count1 = 0\n",
        "    count2 = 0\n",
        "    for i in range(32):\n",
        "        for j in range(32):\n",
        "          if None not in array3[i][j]:\n",
        "              for k in range(3):\n",
        "                 if im[i][j][k] < 230:\n",
        "                    count2 = count2 + 1\n",
        "                    if(count2 > 3):\n",
        "                       im[i][j][k] = im[i][j][k] + 10\n",
        "                       confidence = model.predict_one(im)[true_class]\n",
        "                       if(confidence >= prior):\n",
        "                           im[i][j][k] = im[i][j][k] - 10\n",
        "                       else:\n",
        "                         prior = confidence\n",
        "\n",
        "     \n",
        "          if None not in array2[i][j]:\n",
        "              for k in range(3):\n",
        "                    count1 = count1 + 1\n",
        "                    if(count1 > 3):\n",
        "                      im[i][j][k] = im[i][j][k] + 10\n",
        "                      #if random.randint(0,50) == 43:\n",
        "                            #im[i][j] = [255, 255, 255]\n",
        "                      confidence = model.predict_one(im)[true_class]\n",
        "                      if(confidence >= prior2):\n",
        "                            im[i][j][k] = im[i][j][k] - 10\n",
        "                      else:\n",
        "                         prior2 = confidence\n",
        "\n",
        "\n",
        "\n",
        "          if None not in array1[i][j]:\n",
        "              for k in range(3):\n",
        "                    count = count + 1\n",
        "                    if(count > 3):\n",
        "                      im[i][j][k] = im[i][j][k] + 20\n",
        "                      #if random.randint(0,50) == 43:\n",
        "                            #im[i][j] = [255, 255, 255]\n",
        "                      confidence = model.predict_one(im)[true_class]\n",
        "                      if(confidence >= prior1):\n",
        "                            im[i][j][k] = im[i][j][k] - 20\n",
        "                      else:\n",
        "                          prior1 = confidence\n",
        "\n",
        "\n",
        "                    \n",
        "    \n",
        "    confidence = model.predict_one(im)[true_class]\n",
        "    helper.plot_image(im)\n",
        "    helper.plot_image(x_test[image_id])\n",
        "    print('Confidence in true class', class_names[true_class], 'is', confidence)\n",
        "    print('Prior confidence was', prior_confidence)  \n",
        "    delta = (prior_confidence - confidence)*100 \n",
        "    print('The percentage difference is', delta)\n",
        "attack1(1346)"
      ],
      "execution_count": null,
      "outputs": []
    },
    {
      "cell_type": "code",
      "metadata": {
        "id": "PqJckyVpQqWI"
      },
      "source": [
        "def attack2(img):    \n",
        "    model = resnet\n",
        "    image_id = img # Image index in the test set\n",
        "    true_class = y_test[image_id, 0]\n",
        "    prior_confidence = model.predict_one(x_test[image_id])[true_class]\n",
        "    prior1 = prior_confidence; prior2 = prior1; prior = prior2\n",
        "    im1 = np.copy(x_test[image_id]) \n",
        "    im2 = np.copy(x_test[image_id]) \n",
        "    avg_arr = np.full((32,32,3), None)\n",
        "\n",
        "\n",
        "    for i in range(32): \n",
        "        for j in range(32):\n",
        "            avg = int(sum(im1[i][j])/3)\n",
        "            avg_arr[i][j] = avg \n",
        "    for i in range(31): \n",
        "        for j in range(31): \n",
        "           if ((abs(avg_arr[i][j] - avg_arr[i][j-1]) >= 30).all() and (abs(avg_arr[i][j] - avg_arr[i][j+1]) >= 30).all()):\n",
        "             im1[i][j] = [105,105,105]\n",
        "    helper.plot_image(im1)\n",
        "    helper.plot_image(im2)\n",
        "\n",
        "\n",
        "    confidence = model.predict_one(im1)[true_class]\n",
        "    print('Confidence in true class', class_names[true_class], 'is', confidence)\n",
        "    print('Prior confidence was', prior_confidence) \n",
        "    delta = (prior_confidence - confidence)*100 \n",
        "    print('The percentage difference is', delta)\n",
        "\n",
        "attack2(790)"
      ],
      "execution_count": null,
      "outputs": []
    },
    {
      "cell_type": "code",
      "metadata": {
        "id": "8yslIIreQqWI"
      },
      "source": [
        "def attack3(img_id, partition, random):\n",
        "    image_id = img_id\n",
        "    img = np.copy(x_test[image_id])\n",
        "    true_class = y_test[image_id, 0]\n",
        "    model = resnet\n",
        "    prior_confidence = model.predict_one(x_test[image_id])[true_class]\n",
        "\n",
        "    \n",
        "    #partiton => every _____ rows/columns\n",
        "    for i in range(32): \n",
        "      if (random == False):\n",
        "         if i%partition==0: # for set number of partitions\n",
        "            for j in range(32): \n",
        "                img[i][j] =  img[i][j] * 0.90\n",
        "                img[j][i] =  img[j][i] * 0.90\n",
        "      if(random == True):\n",
        "            i = random.randint(0,31) # for random\n",
        "            for j in range(32): \n",
        "                img[i][j] =  img[i][j] * 0.90\n",
        "                img[j][i] =  img[j][i] * 0.90\n",
        "\n",
        "    confidence = predict_classes1(img, true_class, model)[0]\n",
        "\n",
        "    print('Confidence in true class', class_names[true_class], 'is', confidence)\n",
        "    print('Prior confidence was', prior_confidence)\n",
        "    delta = (prior_confidence - confidence)*100\n",
        "    print('The percentage difference is', delta)\n",
        "    if confidence < prior_confidence: \n",
        "        print(\"okay\")\n",
        "    else: \n",
        "        print(\"fail\")\n",
        "    helper.plot_image(img)\n",
        "attack3(430, 7, False)"
      ],
      "execution_count": null,
      "outputs": []
    },
    {
      "cell_type": "code",
      "metadata": {
        "id": "fOcbcEmRQqWI"
      },
      "source": [
        "def attack4(img_id, pixels):\n",
        "    a = pixels # however many pixels you wanna block\n",
        "    image_id = img_id\n",
        "    img = np.copy(x_test[image_id])\n",
        "    for i in range(32): \n",
        "        for j in range(a): \n",
        "            img[i][j] =  255\n",
        "            img[j][i] =  255\n",
        "            img[i][(32-a)+j] = 255\n",
        "            img[j+(32-a)][i] =  255\n",
        "    model = resnet\n",
        "\n",
        "    true_class = y_test[image_id, 0]\n",
        "    prior_confidence = model.predict_one(x_test[image_id])[true_class]\n",
        "    confidence = predict_classes1(img, true_class, model)[0]\n",
        "\n",
        "    print('Confidence in true class', class_names[true_class], 'is', confidence)\n",
        "    print('Prior confidence was', prior_confidence)\n",
        "    delta = (prior_confidence - confidence)*100\n",
        "    print('The percentage difference is', delta)\n",
        "    if confidence < prior_confidence: \n",
        "        print(\"okay\")\n",
        "    else: \n",
        "        print(\"fail\")\n",
        "    helper.plot_image(img)\n",
        "    \n",
        "attack4(430,2)"
      ],
      "execution_count": null,
      "outputs": []
    },
    {
      "cell_type": "code",
      "metadata": {
        "id": "lsatW4UzQqWI"
      },
      "source": [
        "def defense(img):    \n",
        "    import random \n",
        "    model = resnet\n",
        "    sor =[]\n",
        "    image_id = img # Image index in the test set\n",
        "    true_class = y_test[image_id, 0]\n",
        "    prob = 0.03\n",
        "    thres = 1- prob\n",
        "    prior_confidence = model.predict_one(x_test[image_id])[true_class]\n",
        "    prior1 = prior_confidence; prior2 = prior1; prior = prior2\n",
        "    im3 = np.copy(x_test[image_id]) \n",
        "    im4 = np.copy(x_test[image_id]) \n",
        "    ### Adding Noise ###\n",
        "    for i in range(32): \n",
        "        for j in range(32):                 \n",
        "                if random.random() < prob:\n",
        "                    im4[i][j]= [0,0,0]\n",
        "                elif random.random() > thres:\n",
        "                    im4[i][j]= [255,255,255]\n",
        "    im6 = np.copy(im4) \n",
        "    \n",
        "    ### Removing Noise ###\n",
        "    \n",
        "    for i in range(31): \n",
        "        for j in range(31): \n",
        "            for k in range(3):\n",
        "                sor.append(im6[i][j][k])\n",
        "                sor.append(im6[i][j+1][k])\n",
        "                sor.append(im6[i][j-1][k])\n",
        "                sor.sort()\n",
        "                im6[i][j][k] = sor[1]\n",
        "                sor=[]\n",
        "    confidence1 = model.predict_one(im3)[true_class]\n",
        "    confidence2 = model.predict_one(im4)[true_class]\n",
        "    confidence3 = model.predict_one(im6)[true_class]\n",
        "    helper.plot_image(im3)\n",
        "    print(confidence1)\n",
        "    helper.plot_image(im4)\n",
        "    print(confidence2)\n",
        "    helper.plot_image(im6)\n",
        "    print(confidence3)\n",
        "\n",
        "\n",
        "\n",
        "defense(4400)"
      ],
      "execution_count": null,
      "outputs": []
    },
    {
      "cell_type": "code",
      "metadata": {
        "id": "t9GAr6UWQqWJ"
      },
      "source": [
        ""
      ],
      "execution_count": null,
      "outputs": []
    }
  ]
}